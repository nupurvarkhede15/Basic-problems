{
 "cells": [
  {
   "cell_type": "markdown",
   "id": "statistical-rally",
   "metadata": {},
   "source": [
    "# Maximum of two numbers in Python"
   ]
  },
  {
   "cell_type": "code",
   "execution_count": 1,
   "id": "detailed-bankruptcy",
   "metadata": {},
   "outputs": [
    {
     "name": "stdout",
     "output_type": "stream",
     "text": [
      "4\n"
     ]
    }
   ],
   "source": [
    "a = 2\n",
    "b = 4\n",
    "  \n",
    "maximum = max(a, b)\n",
    "print(maximum)"
   ]
  },
  {
   "cell_type": "code",
   "execution_count": 3,
   "id": "manual-conflict",
   "metadata": {},
   "outputs": [
    {
     "name": "stdout",
     "output_type": "stream",
     "text": [
      "4\n"
     ]
    }
   ],
   "source": [
    "a = 2\n",
    "b = 4\n",
    "print(max(a, b))"
   ]
  },
  {
   "cell_type": "code",
   "execution_count": 5,
   "id": "returning-mortgage",
   "metadata": {},
   "outputs": [
    {
     "name": "stdout",
     "output_type": "stream",
     "text": [
      "4\n"
     ]
    }
   ],
   "source": [
    "def maximum(a, b):\n",
    "      \n",
    "    if a >= b:\n",
    "        return a\n",
    "    else:\n",
    "        return b\n",
    "a = 2\n",
    "b = 4\n",
    "print(maximum(a, b))"
   ]
  },
  {
   "cell_type": "code",
   "execution_count": 7,
   "id": "contained-elements",
   "metadata": {},
   "outputs": [
    {
     "name": "stdout",
     "output_type": "stream",
     "text": [
      "-1\n"
     ]
    }
   ],
   "source": [
    "a = -1\n",
    "b = -4\n",
    "maximum = max(a,b)\n",
    "print(maximum)"
   ]
  },
  {
   "cell_type": "code",
   "execution_count": 8,
   "id": "reduced-damages",
   "metadata": {},
   "outputs": [
    {
     "name": "stdout",
     "output_type": "stream",
     "text": [
      "-1\n"
     ]
    }
   ],
   "source": [
    "a = -1\n",
    "b = -4\n",
    "print(max(a,b))"
   ]
  },
  {
   "cell_type": "code",
   "execution_count": 3,
   "id": "incident-throw",
   "metadata": {},
   "outputs": [
    {
     "name": "stdout",
     "output_type": "stream",
     "text": [
      "-1\n"
     ]
    }
   ],
   "source": [
    "def maximum(a, b):\n",
    "      \n",
    "    if a >= b:\n",
    "        return a\n",
    "    else:\n",
    "        return b\n",
    "a = -1\n",
    "b = -4\n",
    "print(maximum(a, b))"
   ]
  },
  {
   "cell_type": "code",
   "execution_count": 4,
   "id": "comfortable-messenger",
   "metadata": {},
   "outputs": [
    {
     "name": "stdout",
     "output_type": "stream",
     "text": [
      "6\n"
     ]
    }
   ],
   "source": [
    "a = 1 \n",
    "b = 5 \n",
    "c = 6\n",
    "print(max(a,b,c))"
   ]
  },
  {
   "cell_type": "code",
   "execution_count": 15,
   "id": "sexual-nerve",
   "metadata": {},
   "outputs": [
    {
     "name": "stdout",
     "output_type": "stream",
     "text": [
      "-30\n"
     ]
    }
   ],
   "source": [
    "t1 = -30 \n",
    "t2 = -34\n",
    "maximum = max(t1,t2)\n",
    "print(maximum)"
   ]
  },
  {
   "cell_type": "code",
   "execution_count": 16,
   "id": "exciting-monroe",
   "metadata": {},
   "outputs": [
    {
     "name": "stdout",
     "output_type": "stream",
     "text": [
      "-4\n"
     ]
    }
   ],
   "source": [
    "def maximum(a, b):\n",
    "      \n",
    "    if a >= b:\n",
    "        return a\n",
    "    else:\n",
    "        return b\n",
    "a = -67\n",
    "b = -4\n",
    "print(maximum(a, b))"
   ]
  },
  {
   "cell_type": "code",
   "execution_count": 46,
   "id": "resident-provision",
   "metadata": {},
   "outputs": [
    {
     "name": "stdout",
     "output_type": "stream",
     "text": [
      "-4\n"
     ]
    }
   ],
   "source": [
    "def maximum(t1, t2):\n",
    "      \n",
    "    if t1 >= t2:\n",
    "        return t1\n",
    "    else:\n",
    "        return t2\n",
    "t1 = -67\n",
    "t2 = -4\n",
    "print(maximum(t1, t2))"
   ]
  },
  {
   "cell_type": "markdown",
   "id": "prime-realtor",
   "metadata": {},
   "source": [
    "# Python program maximum of three numbers"
   ]
  },
  {
   "cell_type": "code",
   "execution_count": 20,
   "id": "incident-setting",
   "metadata": {},
   "outputs": [
    {
     "name": "stdout",
     "output_type": "stream",
     "text": [
      "14\n"
     ]
    }
   ],
   "source": [
    "a = 10\n",
    "b = 14\n",
    "c = 12\n",
    "print(max(a, b, c))"
   ]
  },
  {
   "cell_type": "code",
   "execution_count": 21,
   "id": "sustainable-episode",
   "metadata": {},
   "outputs": [
    {
     "name": "stdout",
     "output_type": "stream",
     "text": [
      "-3\n"
     ]
    }
   ],
   "source": [
    "banana = -32\n",
    "cherry = -3\n",
    "mango = -5\n",
    "print(max( banana, cherry , mango))"
   ]
  },
  {
   "cell_type": "code",
   "execution_count": 45,
   "id": "standard-married",
   "metadata": {},
   "outputs": [
    {
     "name": "stdout",
     "output_type": "stream",
     "text": [
      "42\n"
     ]
    }
   ],
   "source": [
    "def maximum(a, b, c):\n",
    "  \n",
    "    if (a >= b) and (a >= c):\n",
    "        largest = a\n",
    "  \n",
    "    elif (b >= a) and (b >= c):\n",
    "        largest = b\n",
    "    else:\n",
    "        largest = c\n",
    "          \n",
    "    return largest\n",
    "   \n",
    "a = 40\n",
    "b = 42\n",
    "c = 26\n",
    "print(maximum(a, b, c))"
   ]
  },
  {
   "cell_type": "code",
   "execution_count": 1,
   "id": "interested-mercy",
   "metadata": {},
   "outputs": [
    {
     "name": "stdout",
     "output_type": "stream",
     "text": [
      "50\n"
     ]
    }
   ],
   "source": [
    "def maximum(a, b, c):\n",
    "    \n",
    "    if (a>=b)and (a>=c):\n",
    "        laegest = a\n",
    "        \n",
    "    elif (b>=a) and (b>=c):\n",
    "        largest = b\n",
    "    else:\n",
    "        largest = c \n",
    "        \n",
    "        return largest\n",
    "    \n",
    "a= 20 \n",
    "b= 30\n",
    "c= 50\n",
    "print(maximum(a,b,c))"
   ]
  },
  {
   "cell_type": "markdown",
   "id": "exempt-commonwealth",
   "metadata": {},
   "source": [
    "# Python program to print all Prime numbers in an Interval"
   ]
  },
  {
   "cell_type": "code",
   "execution_count": 12,
   "id": "alpha-flavor",
   "metadata": {},
   "outputs": [
    {
     "name": "stdout",
     "output_type": "stream",
     "text": [
      "5\n",
      "7\n",
      "11\n",
      "13\n",
      "17\n",
      "19\n",
      "23\n"
     ]
    }
   ],
   "source": [
    "start = 5\n",
    "end = 25\n",
    "  \n",
    "for i in range(start, end+1):\n",
    "  if i>1:\n",
    "    for j in range(2,i):\n",
    "        if(i % j==0):\n",
    "            break\n",
    "    else:\n",
    "        print(i)"
   ]
  },
  {
   "cell_type": "code",
   "execution_count": 13,
   "id": "billion-stocks",
   "metadata": {},
   "outputs": [
    {
     "name": "stdout",
     "output_type": "stream",
     "text": [
      "5\n",
      "7\n"
     ]
    }
   ],
   "source": [
    "num1 = 5 \n",
    "num2 = 10\n",
    "\n",
    "for i in range(num1,num2+1):\n",
    " if i>1:\n",
    "        for j in range(3 , i):\n",
    "            if(i % j==0):\n",
    "                break\n",
    "        else :\n",
    "            print(i)"
   ]
  },
  {
   "cell_type": "code",
   "execution_count": 44,
   "id": "duplicate-cream",
   "metadata": {},
   "outputs": [
    {
     "name": "stdout",
     "output_type": "stream",
     "text": [
      "11\n",
      "13\n",
      "17\n",
      "19\n",
      "23\n"
     ]
    }
   ],
   "source": [
    "start = 11\n",
    "end = 25\n",
    "  \n",
    "for i in range(start, end+1):\n",
    "  if i>1:\n",
    "    for j in range(2,i):\n",
    "        if(i % j==0):\n",
    "            break\n",
    "    else:\n",
    "        print(i)"
   ]
  },
  {
   "cell_type": "markdown",
   "id": "subjective-breathing",
   "metadata": {},
   "source": [
    "# Python program to display all the prime numbers within an interval\n"
   ]
  },
  {
   "cell_type": "code",
   "execution_count": 43,
   "id": "binary-logistics",
   "metadata": {},
   "outputs": [
    {
     "name": "stdout",
     "output_type": "stream",
     "text": [
      "Prime numbers between 7 and 50 are:\n",
      "7\n",
      "11\n",
      "13\n",
      "17\n",
      "19\n",
      "23\n",
      "29\n",
      "31\n",
      "37\n",
      "41\n",
      "43\n",
      "47\n"
     ]
    }
   ],
   "source": [
    "\n",
    "lower = 7\n",
    "upper = 50\n",
    "\n",
    "print(\"Prime numbers between\", lower, \"and\", upper, \"are:\")\n",
    "\n",
    "for num in range(lower, upper + 1):\n",
    "   # all prime numbers are greater than 1\n",
    "   if num > 1:\n",
    "       for i in range(2, num):\n",
    "           if (num % i) == 0:\n",
    "               break\n",
    "       else:\n",
    "           print(num)"
   ]
  },
  {
   "cell_type": "markdown",
   "id": "romantic-motel",
   "metadata": {},
   "source": [
    "# Program to find the sum of all numbers stored in a list *******\n"
   ]
  },
  {
   "cell_type": "code",
   "execution_count": 4,
   "id": "improving-viking",
   "metadata": {},
   "outputs": [
    {
     "name": "stdout",
     "output_type": "stream",
     "text": [
      "The sum is 48\n"
     ]
    }
   ],
   "source": [
    "numbers = [6, 5, 3, 8, 4, 2, 5, 4, 11]\n",
    "\n",
    "sum = 0\n",
    "\n",
    "for val in numbers:\n",
    "    sum = sum+val\n",
    "\n",
    "print(\"The sum is\", sum)"
   ]
  },
  {
   "cell_type": "code",
   "execution_count": 6,
   "id": "double-massage",
   "metadata": {},
   "outputs": [
    {
     "name": "stdout",
     "output_type": "stream",
     "text": [
      "the sum is  103\n"
     ]
    }
   ],
   "source": [
    "numbers = [2, 5, 7, 9, 24, 56]\n",
    "\n",
    "sum = 0 \n",
    "\n",
    "for val in numbers:\n",
    "    sum = sum+val\n",
    "    \n",
    "print(\"the sum is \" , sum)"
   ]
  },
  {
   "cell_type": "markdown",
   "id": "statistical-aberdeen",
   "metadata": {},
   "source": [
    "# Python Program for Sum of squares of first n natural numbers\n",
    "12 + 22 + 32 + 42\n",
    "= 1 + 4 + 9 + 16\n",
    "30"
   ]
  },
  {
   "cell_type": "code",
   "execution_count": 42,
   "id": "productive-covering",
   "metadata": {},
   "outputs": [
    {
     "name": "stdout",
     "output_type": "stream",
     "text": [
      "30\n"
     ]
    }
   ],
   "source": [
    "def squaresum(n) :\n",
    "\n",
    "    sm = 0\n",
    "    for i in range(1, n+1) :\n",
    "        sm = sm + (i * i)\n",
    "      \n",
    "    return sm\n",
    "  \n",
    "n = 4\n",
    "print(squaresum(n))"
   ]
  },
  {
   "cell_type": "code",
   "execution_count": 11,
   "id": "nervous-hypothetical",
   "metadata": {},
   "outputs": [
    {
     "name": "stdout",
     "output_type": "stream",
     "text": [
      "55\n"
     ]
    }
   ],
   "source": [
    "def sqsum(n):\n",
    "\n",
    "    sm = 0 \n",
    "    for i in range(1 , n+1):\n",
    "        sm = sm + (i * i)\n",
    "        \n",
    "    return sm \n",
    "\n",
    "n = 5 \n",
    "print(sqsum(n))"
   ]
  },
  {
   "cell_type": "markdown",
   "id": "mysterious-cambridge",
   "metadata": {},
   "source": [
    "# to find the largest elements in array "
   ]
  },
  {
   "cell_type": "code",
   "execution_count": 40,
   "id": "exact-traffic",
   "metadata": {},
   "outputs": [
    {
     "name": "stdout",
     "output_type": "stream",
     "text": [
      "Largest in given array is 9808\n"
     ]
    }
   ],
   "source": [
    "def largest(arr,n):\n",
    "  \n",
    "    # Initialize maximum element\n",
    "    max = arr[0]\n",
    "  \n",
    "    \n",
    "    for i in range(1, n):\n",
    "        if arr[i] > max:\n",
    "            max = arr[i]\n",
    "    return max\n",
    "  \n",
    "# Driver Code\n",
    "arr = [10, 324, 45, 90, 9808]\n",
    "n = len(arr)\n",
    "Ans = largest(arr,n)\n",
    "print (\"Largest in given array is\",Ans)"
   ]
  },
  {
   "cell_type": "markdown",
   "id": "cathedral-bradford",
   "metadata": {},
   "source": [
    "# Python Program to find sum of array"
   ]
  },
  {
   "cell_type": "code",
   "execution_count": 2,
   "id": "unlikely-transportation",
   "metadata": {},
   "outputs": [
    {
     "name": "stdout",
     "output_type": "stream",
     "text": [
      "Sum of the array is  34\n"
     ]
    }
   ],
   "source": [
    "def _sum(arr): \n",
    "      \n",
    "    sum=0\n",
    "      \n",
    "    for i in arr:\n",
    "        sum = sum + i\n",
    "          \n",
    "    return(sum) \n",
    "  \n",
    "arr = [12, 3, 4, 15] \n",
    "   \n",
    "n = len(arr)   \n",
    "ans = _sum(arr)   \n",
    "\n",
    "print ('Sum of the array is ', ans) "
   ]
  },
  {
   "cell_type": "code",
   "execution_count": null,
   "id": "encouraging-sensitivity",
   "metadata": {},
   "outputs": [],
   "source": [
    " #Python program to print the sum of all elements in an array"
   ]
  },
  {
   "cell_type": "code",
   "execution_count": 8,
   "id": "legitimate-senegal",
   "metadata": {},
   "outputs": [
    {
     "name": "stdout",
     "output_type": "stream",
     "text": [
      "Sum of all the elements of an array: 15\n"
     ]
    }
   ],
   "source": [
    "arr = [1, 2, 3, 4, 5];     \n",
    "sum = 0;    \n",
    "     \n",
    "#Loop through the array to calculate sum of elements    \n",
    "for i in range(0, len(arr)):    \n",
    "   sum = sum + arr[i];    \n",
    "     \n",
    "print(\"Sum of all the elements of an array: \" + str(sum));  "
   ]
  },
  {
   "cell_type": "markdown",
   "id": "exposed-chinese",
   "metadata": {},
   "source": [
    "# ##Python program to interchange first and last elements in a list"
   ]
  },
  {
   "cell_type": "code",
   "execution_count": 1,
   "id": "hundred-mirror",
   "metadata": {},
   "outputs": [
    {
     "name": "stdout",
     "output_type": "stream",
     "text": [
      "[24, 35, 9, 56, 12]\n"
     ]
    }
   ],
   "source": [
    "def swapList(newList):\n",
    "    size = len(newList)\n",
    "      \n",
    "    temp = newList[0]\n",
    "    newList[0] = newList[size - 1]\n",
    "    newList[size - 1] = temp\n",
    "      \n",
    "    return newList\n",
    "      \n",
    "newList = [12, 35, 9, 56, 24]\n",
    "  \n",
    "print(swapList(newList))"
   ]
  },
  {
   "cell_type": "code",
   "execution_count": 39,
   "id": "partial-membership",
   "metadata": {},
   "outputs": [
    {
     "name": "stdout",
     "output_type": "stream",
     "text": [
      "Enter the number of elements in list:2\n",
      "Enter element:3\n",
      "Enter element:6\n",
      "Your current list is: ['3', '6']\n",
      "New list is: ['6', '3']\n"
     ]
    }
   ],
   "source": [
    "list = []\n",
    "n = int(input(\"Enter the number of elements in list:\"))\n",
    "for x in range(0, n):\n",
    "    element = input(\"Enter element:\")\n",
    "    list.append(element)\n",
    "print(\"Your current list is:\", list)\n",
    "temp = list[0]\n",
    "list[0] = list[n-1]\n",
    "list[n-1] = temp\n",
    "print(\"New list is:\", list)"
   ]
  },
  {
   "cell_type": "markdown",
   "id": "lesser-dollar",
   "metadata": {},
   "source": [
    "# Reversing a List in Python"
   ]
  },
  {
   "cell_type": "code",
   "execution_count": 4,
   "id": "crucial-vacuum",
   "metadata": {},
   "outputs": [
    {
     "name": "stdout",
     "output_type": "stream",
     "text": [
      "[15, 14, 13, 12, 11, 10]\n"
     ]
    }
   ],
   "source": [
    "def Reverse(lst):\n",
    "    return [ele for ele in reversed(lst)]\n",
    "      \n",
    "# Driver Code\n",
    "lst = [10, 11, 12, 13, 14, 15]\n",
    "print(Reverse(lst))"
   ]
  },
  {
   "cell_type": "code",
   "execution_count": 6,
   "id": "capital-split",
   "metadata": {},
   "outputs": [
    {
     "name": "stdout",
     "output_type": "stream",
     "text": [
      "Original List: ['Windows', 'macOS', 'Linux']\n",
      "Updated List: ['Linux', 'macOS', 'Windows']\n"
     ]
    }
   ],
   "source": [
    "systems = ['Windows', 'macOS', 'Linux']\n",
    "print('Original List:', systems)\n",
    "\n",
    "systems.reverse()\n",
    "\n",
    "print('Updated List:', systems)"
   ]
  },
  {
   "cell_type": "code",
   "execution_count": null,
   "id": "thrown-providence",
   "metadata": {},
   "outputs": [],
   "source": [
    "systems = ['Windows', 'macOS', 'Linux']\n",
    "\n",
    "# Printing Elements in Reversed Order\n",
    "for o in reversed(systems):\n",
    "    print(o)"
   ]
  },
  {
   "cell_type": "code",
   "execution_count": 37,
   "id": "specific-procedure",
   "metadata": {},
   "outputs": [
    {
     "name": "stdout",
     "output_type": "stream",
     "text": [
      "sayli\n",
      "mahira\n",
      "nupur\n"
     ]
    }
   ],
   "source": [
    "name_list = ['nupur' , 'mahira' , 'sayli']\n",
    "for i in reversed(name_list):\n",
    "    print(i)"
   ]
  },
  {
   "cell_type": "code",
   "execution_count": 2,
   "id": "supported-first",
   "metadata": {},
   "outputs": [
    {
     "name": "stdout",
     "output_type": "stream",
     "text": [
      "It\n",
      "civil\n",
      "electrical\n"
     ]
    }
   ],
   "source": [
    "a = ['electrical', 'civil','It']\n",
    "for i in reversed(a):\n",
    "    print(i)"
   ]
  },
  {
   "cell_type": "markdown",
   "id": "reasonable-single",
   "metadata": {},
   "source": [
    "# Python program to find smallest number in a list"
   ]
  },
  {
   "cell_type": "code",
   "execution_count": 14,
   "id": "direct-restoration",
   "metadata": {},
   "outputs": [
    {
     "name": "stdout",
     "output_type": "stream",
     "text": [
      "Smallest element is: 4\n"
     ]
    }
   ],
   "source": [
    "list1 = [10, 20, 4, 45, 99]\n",
    " \n",
    "list1.sort()\n",
    "print(\"Smallest element is:\", *list1[:1])"
   ]
  },
  {
   "cell_type": "code",
   "execution_count": 24,
   "id": "parliamentary-oregon",
   "metadata": {},
   "outputs": [
    {
     "name": "stdout",
     "output_type": "stream",
     "text": [
      "smallest element is: 2\n"
     ]
    }
   ],
   "source": [
    "my_list = [2,58,37,4,30]\n",
    "\n",
    "my_list.sort()\n",
    "print(\"smallest element is:\" , *my_list[:1])"
   ]
  },
  {
   "cell_type": "code",
   "execution_count": 26,
   "id": "consistent-aaron",
   "metadata": {},
   "outputs": [
    {
     "name": "stdout",
     "output_type": "stream",
     "text": [
      "30\n"
     ]
    }
   ],
   "source": [
    "mynum = [30,50,4,60,1]\n",
    "min_value = mynum[0]\n",
    "for i in mynum:\n",
    "    if min_value > i:\n",
    "        mim_value = i\n",
    "print(min_value)"
   ]
  },
  {
   "cell_type": "code",
   "execution_count": 36,
   "id": "smooth-shuttle",
   "metadata": {},
   "outputs": [
    {
     "name": "stdout",
     "output_type": "stream",
     "text": [
      "3\n"
     ]
    }
   ],
   "source": [
    "thislist = [ 8 , 3, 6, 11]\n",
    "min_value = thislist[0]\n",
    "for i in thislist:\n",
    "    if min_value > i:\n",
    "        min_value = i\n",
    "        \n",
    "print(min_value)"
   ]
  },
  {
   "cell_type": "markdown",
   "id": "incorporate-blend",
   "metadata": {},
   "source": [
    "# Python program to print even numbers in a list"
   ]
  },
  {
   "cell_type": "code",
   "execution_count": 32,
   "id": "reverse-robertson",
   "metadata": {},
   "outputs": [
    {
     "name": "stdout",
     "output_type": "stream",
     "text": [
      "2 66 "
     ]
    }
   ],
   "source": [
    "list1 = [1, 2, 7, 45, 66, 3]\n",
    "  \n",
    "for num in list1:\n",
    "\n",
    "    if num % 2 == 0:\n",
    "       print(num, end = \" \")"
   ]
  },
  {
   "cell_type": "code",
   "execution_count": 2,
   "id": "heated-finder",
   "metadata": {},
   "outputs": [
    {
     "name": "stdout",
     "output_type": "stream",
     "text": [
      "4 "
     ]
    }
   ],
   "source": [
    "num1 = [ 1, 4, 7, 9,23]\n",
    "\n",
    "for num in num1:\n",
    "\n",
    "    if num % 2 ==0:\n",
    "        print(num,end =\" \")"
   ]
  },
  {
   "cell_type": "code",
   "execution_count": 31,
   "id": "immediate-typing",
   "metadata": {},
   "outputs": [
    {
     "name": "stdout",
     "output_type": "stream",
     "text": [
      "66 "
     ]
    }
   ],
   "source": [
    "num1 = [1, 7, 9, 45, 66, 3]\n",
    "  \n",
    "for num in num1:\n",
    "\n",
    "    if num % 2 == 0:\n",
    "       print(num, end = \" \")"
   ]
  },
  {
   "cell_type": "code",
   "execution_count": 32,
   "id": "reported-empire",
   "metadata": {},
   "outputs": [
    {
     "name": "stdout",
     "output_type": "stream",
     "text": [
      "14 18 "
     ]
    }
   ],
   "source": [
    "num1 = [1, 7 ,9 ,11, 14, 18]\n",
    "\n",
    "for num in num1:\n",
    "    \n",
    "    if num % 2 == 0:\n",
    "       print(num,end=\" \")"
   ]
  },
  {
   "cell_type": "markdown",
   "id": "numerous-irish",
   "metadata": {},
   "source": [
    "# Python program to add two Matrices"
   ]
  },
  {
   "cell_type": "code",
   "execution_count": 33,
   "id": "expired-psychiatry",
   "metadata": {},
   "outputs": [
    {
     "name": "stdout",
     "output_type": "stream",
     "text": [
      "[[10, 10, 10], [10, 10, 10], [10, 10, 10]]\n"
     ]
    }
   ],
   "source": [
    "x = [[1,2,3],\n",
    "    [4 ,5,6],\n",
    "    [7 ,8,9]]\n",
    " \n",
    "y = [[9,8,7],\n",
    "    [6,5,4],\n",
    "    [3,2,1]]\n",
    "\n",
    "result = [[0,0,0],\n",
    "        [0,0,0],\n",
    "        [0,0,0]]\n",
    "for i in range(len(x)):\n",
    "    for j in range(len(y)):\n",
    "        result[i][j] = x[i][j] + y[i][j]\n",
    "        \n",
    "print(result)"
   ]
  },
  {
   "cell_type": "code",
   "execution_count": 11,
   "id": "joint-values",
   "metadata": {},
   "outputs": [
    {
     "name": "stdout",
     "output_type": "stream",
     "text": [
      "([1, 2, 3], [9, 8, 7])\n",
      "([4, 5, 6], [6, 5, 4])\n",
      "([7, 8, 9], [3, 2, 1])\n"
     ]
    }
   ],
   "source": [
    "x = [[1,2,3],\n",
    "    [4 ,5,6],\n",
    "    [7 ,8,9]]\n",
    " \n",
    "y = [[9,8,7],\n",
    "    [6,5,4],\n",
    "    [3,2,1]]\n",
    "for t in zip(x ,y):\n",
    "    print(t)"
   ]
  },
  {
   "cell_type": "code",
   "execution_count": 8,
   "id": "comfortable-completion",
   "metadata": {},
   "outputs": [
    {
     "name": "stdout",
     "output_type": "stream",
     "text": [
      "[[10, 10, 10], [10, 10, 10], [10, 10, 10], [10, 10, 10], [10, 10, 10], [10, 10, 10]]\n"
     ]
    }
   ],
   "source": [
    "x = [[1,2,3],\n",
    "    [4 ,5,6],\n",
    "    [7 ,8,9]]\n",
    " \n",
    "y = [[9,8,7],\n",
    "    [6,5,4],\n",
    "    [3,2,1]]\n",
    "\n",
    "for t in zip(x , y):\n",
    "    temp = []\n",
    "    for x in zip(*t):\n",
    "        temp.append(sum(x))\n",
    "    result.append(temp)\n",
    "print(result)\n",
    "    \n",
    "    "
   ]
  },
  {
   "cell_type": "code",
   "execution_count": 2,
   "id": "becoming-playback",
   "metadata": {},
   "outputs": [
    {
     "name": "stdout",
     "output_type": "stream",
     "text": [
      "[[10, 10, 10], [10, 10, 10], [10, 10, 10], [10, 10, 10], [10, 10, 10], [10, 10, 10]]\n"
     ]
    }
   ],
   "source": [
    "x = [[1,2,3],\n",
    "    [4 ,5,6],\n",
    "    [7 ,8,9]]\n",
    " \n",
    "y = [[9,8,7],\n",
    "    [6,5,4],\n",
    "    [3,2,1]]\n",
    "\n",
    "for t in zip(x , y):\n",
    "    temp = []\n",
    "    for x in zip(*t):\n",
    "        temp.append(sum(x))\n",
    "    result.append(temp)\n",
    "print(result)"
   ]
  },
  {
   "cell_type": "code",
   "execution_count": 3,
   "id": "ready-joseph",
   "metadata": {},
   "outputs": [
    {
     "name": "stdout",
     "output_type": "stream",
     "text": [
      "[10, 10, 10]\n",
      "[10, 10, 10]\n",
      "[10, 10, 10]\n"
     ]
    }
   ],
   "source": [
    "X = [[1,2,3],\n",
    "    [4 ,5,6],\n",
    "    [7 ,8,9]]\n",
    "  \n",
    "Y = [[9,8,7],\n",
    "    [6,5,4],\n",
    "    [3,2,1]]\n",
    " \n",
    "result = [[X[i][j] + Y[i][j]  for j in range\n",
    "(len(X[0]))] for i in range(len(X))]\n",
    "  \n",
    "for r in result:\n",
    "    print(r)"
   ]
  },
  {
   "cell_type": "markdown",
   "id": "spread-danger",
   "metadata": {},
   "source": [
    "# Python program to print even length words in a string"
   ]
  },
  {
   "cell_type": "code",
   "execution_count": 47,
   "id": "complicated-neighborhood",
   "metadata": {},
   "outputs": [
    {
     "name": "stdout",
     "output_type": "stream",
     "text": [
      "am\n",
      "muskan\n"
     ]
    }
   ],
   "source": [
    "def printWords(s):\n",
    "      \n",
    "    # split the string \n",
    "    s = s.split(' ') \n",
    "      \n",
    "    # iterate in words of string \n",
    "    for word in s: \n",
    "          \n",
    "        # if length is even \n",
    "        if len(word)%2==0:\n",
    "            print(word) \n",
    "  \n",
    "  \n",
    "# Driver Code \n",
    "s = \"i am muskan\" \n",
    "printWords(s) "
   ]
  },
  {
   "cell_type": "code",
   "execution_count": 5,
   "id": "italic-device",
   "metadata": {},
   "outputs": [
    {
     "name": "stdout",
     "output_type": "stream",
     "text": [
      "am\n",
      "love\n",
      "my\n",
      "life\n"
     ]
    }
   ],
   "source": [
    "def printworld(x):\n",
    "    x = x.split(' ')\n",
    "    \n",
    "    for world in x:\n",
    "        if len(world)%2 ==0:\n",
    "            print(world)\n",
    "            \n",
    "x = \"i am nupur and i love my life\"\n",
    "printworld(x)"
   ]
  },
  {
   "cell_type": "markdown",
   "id": "respective-count",
   "metadata": {},
   "source": [
    "# Python | Remove all duplicates words from a given sentence"
   ]
  },
  {
   "cell_type": "code",
   "execution_count": 60,
   "id": "distinguished-publication",
   "metadata": {},
   "outputs": [
    {
     "name": "stdout",
     "output_type": "stream",
     "text": [
      "Python is great. and .Java .is also great\n"
     ]
    }
   ],
   "source": [
    "s = \"Python is great. and .Java .is also great\"\n",
    "l = s.split(',')\n",
    "k = []\n",
    "for i in l:\n",
    "  \n",
    "    # If condition is used to store unique string \n",
    "    # in another list 'k' \n",
    "    if (s.count(i)>1 and (i not in k)or s.count(i)==1):\n",
    "        k.append(i)\n",
    "print(' '.join(k))"
   ]
  },
  {
   "cell_type": "code",
   "execution_count": 61,
   "id": "visible-buyer",
   "metadata": {},
   "outputs": [
    {
     "name": "stdout",
     "output_type": "stream",
     "text": [
      " i love my india and i love to my self\n"
     ]
    }
   ],
   "source": [
    "s =  \" i love my india, and, i love to my self\"\n",
    "l = s.split(',')\n",
    "k = []\n",
    "for i in l :\n",
    "    if(s. count(i))>1 and (i not in k ) or s.count(i)==1:\n",
    "        k.append(i)\n",
    "print(''.join(k))"
   ]
  },
  {
   "cell_type": "code",
   "execution_count": 1,
   "id": "latin-vector",
   "metadata": {},
   "outputs": [
    {
     "name": "stdout",
     "output_type": "stream",
     "text": [
      "Original String:\n",
      "['Python', 'Exercises', 'Practice', 'Solution', 'Exercises']\n",
      "\n",
      "After removing duplicate words from the said list of strings:\n",
      "['Python', 'Exercises', 'Practice', 'Solution']\n"
     ]
    }
   ],
   "source": [
    "def unique_list(l):\n",
    "    temp = []\n",
    "    for x in l:\n",
    "        if x not in temp:\n",
    "            temp.append(x)\n",
    "    return temp\n",
    "\n",
    "text_str = [\"Python\", \"Exercises\", \"Practice\", \"Solution\", \"Exercises\"]\n",
    "print(\"Original String:\")\n",
    "print(text_str)\n",
    "print(\"\\nAfter removing duplicate words from the said list of strings:\")\n",
    "print(unique_list(text_str))"
   ]
  },
  {
   "cell_type": "code",
   "execution_count": 15,
   "id": "manual-optics",
   "metadata": {},
   "outputs": [
    {
     "name": "stdout",
     "output_type": "stream",
     "text": [
      "original string:\n",
      "['maths', 'english', 'maths', 'science']\n",
      "\n",
      "after removing duplicate words from the said list of strings:\n",
      "['maths', 'english', 'science']\n"
     ]
    }
   ],
   "source": [
    "def unique_list(l):\n",
    "    temp = []\n",
    "    for x in l:\n",
    "        if x not in temp:\n",
    "            temp.append(x)\n",
    "    return temp\n",
    "text_str =[\"maths\",\"english\",\"maths\",\"science\"]\n",
    "print(\"original string:\")\n",
    "print(text_str)\n",
    "print(\"\\nafter removing duplicate words from the said list of strings:\")\n",
    "print(unique_list(text_str))\n"
   ]
  },
  {
   "cell_type": "markdown",
   "id": "consistent-samoa",
   "metadata": {},
   "source": [
    "# Create a Numpy array filled with all zeros | Python"
   ]
  },
  {
   "cell_type": "code",
   "execution_count": 36,
   "id": "figured-destiny",
   "metadata": {},
   "outputs": [
    {
     "name": "stdout",
     "output_type": "stream",
     "text": [
      "[0 0 0 0 0]\n"
     ]
    }
   ],
   "source": [
    "import numpy as np\n",
    "zero_array = np.zeros(5,int)\n",
    "print(zero_array)"
   ]
  },
  {
   "cell_type": "code",
   "execution_count": 38,
   "id": "dated-wings",
   "metadata": {},
   "outputs": [
    {
     "name": "stdout",
     "output_type": "stream",
     "text": [
      "[[1 1 1]\n",
      " [1 1 1]\n",
      " [1 1 1]]\n"
     ]
    }
   ],
   "source": [
    "import numpy as np\n",
    "zero_array = np.ones([3,3],int)\n",
    "print(zero_array)"
   ]
  },
  {
   "cell_type": "code",
   "execution_count": 39,
   "id": "severe-effect",
   "metadata": {},
   "outputs": [
    {
     "name": "stdout",
     "output_type": "stream",
     "text": [
      "[0 0 0]\n"
     ]
    }
   ],
   "source": [
    "import numpy as np \n",
    "zero_array = np.zeros(3,int)\n",
    "print(zero_array)"
   ]
  },
  {
   "cell_type": "code",
   "execution_count": 42,
   "id": "caroline-instruction",
   "metadata": {},
   "outputs": [
    {
     "name": "stdout",
     "output_type": "stream",
     "text": [
      "[[1 1]\n",
      " [1 1]\n",
      " [1 1]]\n"
     ]
    }
   ],
   "source": [
    "import numpy as np\n",
    "zero_array = np.ones([3,2],int)\n",
    "print(zero_array)"
   ]
  },
  {
   "cell_type": "markdown",
   "id": "color-former",
   "metadata": {},
   "source": [
    "# Find the most frequent value in a NumPy array"
   ]
  },
  {
   "cell_type": "code",
   "execution_count": 43,
   "id": "driven-feedback",
   "metadata": {},
   "outputs": [
    {
     "name": "stdout",
     "output_type": "stream",
     "text": [
      "Original array:\n",
      "[1 2 3 4 5 1 2 1 1 1]\n",
      "Most frequent value in the above array:\n",
      "1\n"
     ]
    }
   ],
   "source": [
    "import numpy as np\n",
    "  \n",
    "  \n",
    "# create array\n",
    "x = np.array([1,2,3,4,5,1,2,1,1,1])\n",
    "print(\"Original array:\")\n",
    "print(x)\n",
    "  \n",
    "print(\"Most frequent value in the above array:\")\n",
    "print(np.bincount(x).argmax())"
   ]
  },
  {
   "cell_type": "code",
   "execution_count": 45,
   "id": "common-saint",
   "metadata": {},
   "outputs": [
    {
     "name": "stdout",
     "output_type": "stream",
     "text": [
      "[0 3 1 1 1 1]\n"
     ]
    }
   ],
   "source": [
    "x = np.array([1,2,3,4,5,1,1,])\n",
    "#output=1\n",
    "\n",
    "count = np.bincount(x)\n",
    "print(count)\n"
   ]
  },
  {
   "cell_type": "code",
   "execution_count": 46,
   "id": "august-decision",
   "metadata": {},
   "outputs": [
    {
     "name": "stdout",
     "output_type": "stream",
     "text": [
      "[0 4 1 1 1 1]\n",
      "1\n",
      "1\n"
     ]
    }
   ],
   "source": [
    "x = np. array([1,2,3,4,5,1,1,1])\n",
    "count = np.bincount(x)\n",
    "print(count)\n",
    "max_value = count[0]\n",
    "result = 0 \n",
    "for ind , i in enumerate(count):\n",
    "    if max_value < i:\n",
    "        max_value = i\n",
    "        result = ind\n",
    "        \n",
    "print(result)\n",
    "print(count.argmax())\n"
   ]
  },
  {
   "cell_type": "code",
   "execution_count": 48,
   "id": "clean-bunny",
   "metadata": {},
   "outputs": [
    {
     "name": "stdout",
     "output_type": "stream",
     "text": [
      "[0 3 1 1 0 1 0 1]\n",
      "1\n"
     ]
    }
   ],
   "source": [
    "x = np. array([1,3,5,7,1,2,1,])\n",
    "count = np.bincount(x)\n",
    "print(count)\n",
    "max_value = count[0]\n",
    "result = 0 \n",
    "for ind , i in enumerate(count):\n",
    "    if i > max_value :\n",
    "        max_value = i \n",
    "        result = ind\n",
    "        \n",
    "print(result)"
   ]
  },
  {
   "cell_type": "markdown",
   "id": "clear-taxation",
   "metadata": {},
   "source": [
    "# Python | Numpy matrix.max()"
   ]
  },
  {
   "cell_type": "code",
   "execution_count": 54,
   "id": "focused-drill",
   "metadata": {},
   "outputs": [
    {
     "name": "stdout",
     "output_type": "stream",
     "text": [
      "64\n"
     ]
    }
   ],
   "source": [
    "import numpy as np\n",
    "          \n",
    "gfg = np.matrix('[64, 1; 12, 3]')\n",
    "          \n",
    "geeks = gfg.max()\n",
    "    \n",
    "print(geeks)"
   ]
  },
  {
   "cell_type": "code",
   "execution_count": 55,
   "id": "external-martin",
   "metadata": {},
   "outputs": [
    {
     "name": "stdout",
     "output_type": "stream",
     "text": [
      "9\n"
     ]
    }
   ],
   "source": [
    "import numpy as np\n",
    "          \n",
    "gfg = np.matrix('[1, 2, 3; 4, 5, 6; 7, 8, 9]')\n",
    "          \n",
    "geeks = gfg.max()\n",
    "    \n",
    "print(geeks)"
   ]
  },
  {
   "cell_type": "code",
   "execution_count": 3,
   "id": "dependent-ottawa",
   "metadata": {},
   "outputs": [
    {
     "name": "stdout",
     "output_type": "stream",
     "text": [
      "15\n"
     ]
    }
   ],
   "source": [
    "import numpy as np\n",
    "\n",
    "abc = np.matrix('[2,6,8 ; 4,8,10 ; 11,13,15]')\n",
    "\n",
    "bca = abc.max()\n",
    "\n",
    "print(bca)"
   ]
  },
  {
   "cell_type": "markdown",
   "id": "compound-webcam",
   "metadata": {},
   "source": [
    "# Python | Numpy matrix.sum()"
   ]
  },
  {
   "cell_type": "code",
   "execution_count": 1,
   "id": "arctic-start",
   "metadata": {},
   "outputs": [
    {
     "name": "stdout",
     "output_type": "stream",
     "text": [
      "20\n"
     ]
    }
   ],
   "source": [
    "import numpy as np\n",
    "             \n",
    "# make matrix with numpy\n",
    "gfg = np.matrix('[4, 1; 12, 3]')\n",
    "             \n",
    "# applying matrix.sum() method\n",
    "geek = gfg.sum()\n",
    "   \n",
    "print(geek)"
   ]
  },
  {
   "cell_type": "code",
   "execution_count": 2,
   "id": "described-ambassador",
   "metadata": {},
   "outputs": [
    {
     "name": "stdout",
     "output_type": "stream",
     "text": [
      "34\n"
     ]
    }
   ],
   "source": [
    "import numpy as np \n",
    "\n",
    "gfg = np. matrix('[3, 6, 8, 8 9]')\n",
    "geek = gfg.sum()\n",
    "\n",
    "print(geek)"
   ]
  },
  {
   "cell_type": "code",
   "execution_count": 4,
   "id": "behind-telephone",
   "metadata": {},
   "outputs": [
    {
     "name": "stdout",
     "output_type": "stream",
     "text": [
      "48\n"
     ]
    }
   ],
   "source": [
    "import numpy as np\n",
    "\n",
    "a = np.matrix('[3, 6, 7, 9, 23]')\n",
    "ab = a.sum()\n",
    "\n",
    "print(ab)"
   ]
  },
  {
   "cell_type": "code",
   "execution_count": 5,
   "id": "alike-belize",
   "metadata": {},
   "outputs": [
    {
     "name": "stdout",
     "output_type": "stream",
     "text": [
      "136\n"
     ]
    }
   ],
   "source": [
    "import numpy as np \n",
    "\n",
    "num1 = np.matrix('[78, 12, 45, 1]')\n",
    "add_num = num1.sum()\n",
    "\n",
    "print(add_num)"
   ]
  },
  {
   "cell_type": "markdown",
   "id": "comfortable-blake",
   "metadata": {},
   "source": [
    "# Replace NumPy array elements that doesn’t satisfy the given condition"
   ]
  },
  {
   "cell_type": "code",
   "execution_count": null,
   "id": "generous-cause",
   "metadata": {},
   "outputs": [],
   "source": [
    "we can use Relational operators like ‘>’, ‘<‘, etc and other functions like numpy.where()."
   ]
  },
  {
   "cell_type": "code",
   "execution_count": 6,
   "id": "elect-ultimate",
   "metadata": {},
   "outputs": [
    {
     "name": "stdout",
     "output_type": "stream",
     "text": [
      "Given array:\n",
      "[75.42436315 42.48558583 60.32924763]\n",
      "\n",
      "Replace all elements of array which are greater than 50. to 15.50\n",
      "New array :\n",
      "\n",
      "[15.5        42.48558583 15.5       ]\n"
     ]
    }
   ],
   "source": [
    "import numpy as np\n",
    "  \n",
    "# Creating a 1-D Numpy array\n",
    "n_arr = np.array([75.42436315, 42.48558583, 60.32924763])\n",
    "print(\"Given array:\")\n",
    "print(n_arr)\n",
    "  \n",
    "print(\"\\nReplace all elements of array which are greater than 50. to 15.50\")\n",
    "n_arr[n_arr > 50.] = 15.50\n",
    "  \n",
    "print(\"New array :\\n\")\n",
    "print(n_arr)"
   ]
  },
  {
   "cell_type": "code",
   "execution_count": 17,
   "id": "environmental-imagination",
   "metadata": {},
   "outputs": [
    {
     "name": "stdout",
     "output_type": "stream",
     "text": [
      "given array:\n",
      "[23 56 78]\n",
      "\n",
      "replace all elements of array which are grater than 20 to 60\n",
      "new array :\n",
      "\n",
      "[60 60 60]\n"
     ]
    }
   ],
   "source": [
    "import numpy as np\n",
    "\n",
    "n_arr = np.array([23, 56 ,78])\n",
    "print(\"given array:\")\n",
    "print(n_arr)\n",
    "\n",
    "print(\"\\nreplace all elements of array which are grater than 20 to 60\")\n",
    "n_arr[n_arr >20] = 60\n",
    "\n",
    "print(\"new array :\\n\")\n",
    "print(n_arr)"
   ]
  },
  {
   "cell_type": "code",
   "execution_count": 18,
   "id": "sharp-closing",
   "metadata": {},
   "outputs": [
    {
     "name": "stdout",
     "output_type": "stream",
     "text": [
      "Given arn_arrray:\n",
      "[[45.42436315 52.48558583 10.32924763]\n",
      " [ 5.7439979  50.58220701 25.38213418]]\n",
      "\n",
      "Replace all elements of array which are greater than 30. to 5.25\n",
      "New array :\n",
      "\n",
      "[[ 5.25        5.25       10.32924763]\n",
      " [ 5.7439979   5.25       25.38213418]]\n"
     ]
    }
   ],
   "source": [
    "import numpy as npn_arr\n",
    "  \n",
    "# Creating a 2-D Numpy array\n",
    "import numpy as npn_arr([[45.42436315, 52.48558583, 10.32924763],\n",
    "                  [5.7439979, 50.58220701, 25.38213418]])\n",
    "print(\"Given arn_arrray:\")\n",
    "print(n_arr)\n",
    "  \n",
    "print(\"\\nReplace all elements of array which are greater than 30. to 5.25\")\n",
    "n_arr[n_arr > 30.] = 5.25\n",
    "  \n",
    "print(\"New array :\\n\")\n",
    "print(n_arr)"
   ]
  },
  {
   "cell_type": "code",
   "execution_count": 8,
   "id": "forbidden-commodity",
   "metadata": {},
   "outputs": [
    {
     "name": "stdout",
     "output_type": "stream",
     "text": [
      "Given array:\n",
      "[[45 52 10]\n",
      " [ 1  5 25]\n",
      " [50 40 81]]\n",
      "\n",
      "Replace all elements of array which are less than or equal to 25 with Nan\n",
      "else with 1 \n",
      "[[ 1.  1. nan]\n",
      " [nan nan nan]\n",
      " [ 1.  1.  1.]]\n"
     ]
    }
   ],
   "source": [
    "import numpy as np\n",
    "  \n",
    "# Creating a 2-D Numpy array\n",
    "n_arr = np.array([[45, 52, 10],\n",
    "                  [1, 5, 25],\n",
    "                  [50, 40, 81]])\n",
    "  \n",
    "print(\"Given array:\")\n",
    "print(n_arr)\n",
    "  \n",
    "print(\"\\nReplace all elements of array which are \\\n",
    "less than or equal to 25 with Nan\")\n",
    "  \n",
    "print(\"else with 1 \")\n",
    "print(np.where(n_arr <= 25, np.nan, 1))"
   ]
  },
  {
   "cell_type": "code",
   "execution_count": 16,
   "id": "polar-reading",
   "metadata": {},
   "outputs": [
    {
     "name": "stdout",
     "output_type": "stream",
     "text": [
      "given array:\n",
      "[[11  3 23]\n",
      " [25 14 14]\n",
      " [15 17 19]]\n",
      "\n",
      "replace all elements of array which are less than or equal to 15 with nan\n",
      "else with 1 \n",
      "[[nan nan  1.]\n",
      " [ 1. nan nan]\n",
      " [nan  1.  1.]]\n"
     ]
    }
   ],
   "source": [
    "import numpy as np \n",
    "\n",
    "n_arr = np.array([[11, 3 , 23],\n",
    "                [25, 14,14],\n",
    "                [15,17,19]])\n",
    "print(\"given array:\")\n",
    "print(n_arr)\n",
    "\n",
    "print(\"\\nreplace all elements of array which are \\\n",
    "less than or equal to 15 with nan\")\n",
    "\n",
    "print(\"else with 1 \")\n",
    "print(np.where(n_arr <= 15 ,np.nan , 1))"
   ]
  },
  {
   "cell_type": "markdown",
   "id": "correct-local",
   "metadata": {},
   "source": [
    "# Python program to find second largest number in a list"
   ]
  },
  {
   "cell_type": "code",
   "execution_count": 19,
   "id": "overhead-alpha",
   "metadata": {},
   "outputs": [
    {
     "name": "stdout",
     "output_type": "stream",
     "text": [
      "Second largest element is: 45\n"
     ]
    }
   ],
   "source": [
    "# number in a list\n",
    " \n",
    "# list of numbers\n",
    "list1 = [10, 20, 4, 45, 99]\n",
    " \n",
    "# sorting the list\n",
    "list1.sort()\n",
    " \n",
    "# printing the second last element\n",
    "print(\"Second largest element is:\", list1[-2])"
   ]
  },
  {
   "cell_type": "code",
   "execution_count": 20,
   "id": "curious-extreme",
   "metadata": {},
   "outputs": [
    {
     "name": "stdout",
     "output_type": "stream",
     "text": [
      "second largest elements is : 56\n"
     ]
    }
   ],
   "source": [
    "num1 = [23, 56, 30 ,50 ,60]\n",
    "num1.sort()\n",
    "print(\"second largest elements is :\" , num1[-2])"
   ]
  },
  {
   "cell_type": "code",
   "execution_count": 21,
   "id": "blessed-evaluation",
   "metadata": {},
   "outputs": [
    {
     "name": "stdout",
     "output_type": "stream",
     "text": [
      " third largest eleents is : 47\n"
     ]
    }
   ],
   "source": [
    "alist = [ 12, 24, 45, 47, 68, 59]\n",
    "alist.sort()\n",
    "print(\" third largest eleents is :\" , alist[-3])"
   ]
  },
  {
   "cell_type": "code",
   "execution_count": 22,
   "id": "photographic-refrigerator",
   "metadata": {},
   "outputs": [
    {
     "name": "stdout",
     "output_type": "stream",
     "text": [
      " forth largest elements is : 5\n"
     ]
    }
   ],
   "source": [
    "a = [ 1, 3, 5, 7, 9, 11]\n",
    "a.sort()\n",
    "print(\" forth largest elements is :\" , a[-4])"
   ]
  },
  {
   "cell_type": "code",
   "execution_count": 23,
   "id": "advanced-kingdom",
   "metadata": {},
   "outputs": [
    {
     "name": "stdout",
     "output_type": "stream",
     "text": [
      "45\n"
     ]
    }
   ],
   "source": [
    "list1 = [10, 20, 4, 45, 99]\n",
    " \n",
    "# new_list is a set of list1\n",
    "new_list = set(list1)\n",
    " \n",
    "# removing the largest element from temp list\n",
    "new_list.remove(max(new_list))\n",
    " \n",
    "# elements in original list are not changed\n",
    "# print(list1)\n",
    " \n",
    "print(max(new_list))"
   ]
  },
  {
   "cell_type": "code",
   "execution_count": 25,
   "id": "phantom-business",
   "metadata": {},
   "outputs": [
    {
     "name": "stdout",
     "output_type": "stream",
     "text": [
      "9\n"
     ]
    }
   ],
   "source": [
    "num1 = [1, 3, 5, 7, 9 ,11]\n",
    "new_num = set(num1)\n",
    "new_num.remove(max(new_num))\n",
    "print(max(new_num))"
   ]
  },
  {
   "cell_type": "code",
   "execution_count": 27,
   "id": "fuzzy-davis",
   "metadata": {},
   "outputs": [
    {
     "name": "stdout",
     "output_type": "stream",
     "text": [
      "87\n"
     ]
    }
   ],
   "source": [
    "a = [ 23, 46, 68, 35, 58, 98,87]\n",
    "b = set(a)\n",
    "b.remove(max(b))\n",
    "print(max(b))"
   ]
  },
  {
   "cell_type": "markdown",
   "id": "grand-johnston",
   "metadata": {},
   "source": [
    "# Python program to find smallest number in a list"
   ]
  },
  {
   "cell_type": "code",
   "execution_count": 28,
   "id": "human-weekly",
   "metadata": {},
   "outputs": [
    {
     "name": "stdout",
     "output_type": "stream",
     "text": [
      "Smallest element is: 1\n"
     ]
    }
   ],
   "source": [
    "list1 = [10, 20, 1, 45, 99]\n",
    " \n",
    " \n",
    "# printing the maximum element\n",
    "print(\"Smallest element is:\", min(list1))"
   ]
  },
  {
   "cell_type": "code",
   "execution_count": 29,
   "id": "twenty-credit",
   "metadata": {},
   "outputs": [
    {
     "name": "stdout",
     "output_type": "stream",
     "text": [
      "smallest elements is : 2\n"
     ]
    }
   ],
   "source": [
    "a = [2, 4, 6, 8, 10]\n",
    "print(\"smallest elements is :\" ,min(a))"
   ]
  },
  {
   "cell_type": "code",
   "execution_count": 30,
   "id": "above-skirt",
   "metadata": {},
   "outputs": [
    {
     "name": "stdout",
     "output_type": "stream",
     "text": [
      "smallest elements is ; 34\n"
     ]
    }
   ],
   "source": [
    "num_list  = [ 34 , 78, 98, 87 , 67, 65 ]\n",
    "print(\"smallest elements is ;\" , min(num_list))"
   ]
  },
  {
   "cell_type": "code",
   "execution_count": 31,
   "id": "thirty-haven",
   "metadata": {},
   "outputs": [
    {
     "name": "stdout",
     "output_type": "stream",
     "text": [
      "Smallest element is: 4\n"
     ]
    }
   ],
   "source": [
    "list1 = [10, 20, 4, 45, 99]\n",
    " \n",
    "# sorting the list\n",
    "list1.sort()\n",
    " \n",
    "# printing the first element\n",
    "print(\"Smallest element is:\", *list1[:1])"
   ]
  },
  {
   "cell_type": "code",
   "execution_count": 32,
   "id": "flexible-writing",
   "metadata": {},
   "outputs": [
    {
     "name": "stdout",
     "output_type": "stream",
     "text": [
      "smallest elements is ; 12\n"
     ]
    }
   ],
   "source": [
    "a = [12, 24, 36, 48 , 60, 72]\n",
    "a.sort()\n",
    "print(\"smallest elements is ;\", *a[:1])"
   ]
  },
  {
   "cell_type": "code",
   "execution_count": 33,
   "id": "desperate-signal",
   "metadata": {},
   "outputs": [
    {
     "name": "stdout",
     "output_type": "stream",
     "text": [
      "smallest elements is; 1 3\n"
     ]
    }
   ],
   "source": [
    "a = [ 1, 3, 5, 8]\n",
    "a.sort()\n",
    "print(\"smallest elements is;\" , *a[:2]) "
   ]
  },
  {
   "cell_type": "markdown",
   "id": "contrary-branch",
   "metadata": {},
   "source": [
    "# Python Program for cube sum of first n natural numbers"
   ]
  },
  {
   "cell_type": "code",
   "execution_count": 35,
   "id": "heavy-prophet",
   "metadata": {},
   "outputs": [
    {
     "name": "stdout",
     "output_type": "stream",
     "text": [
      "225\n"
     ]
    }
   ],
   "source": [
    "def sumOfSeries(n):\n",
    "    sum = 0\n",
    "    for i in range(1, n+1):\n",
    "        sum +=i*i*i\n",
    "          \n",
    "    return sum\n",
    "  \n",
    "   \n",
    "# Driver Function\n",
    "n = 5\n",
    "print(sumOfSeries(n))"
   ]
  },
  {
   "cell_type": "code",
   "execution_count": 38,
   "id": "still-missile",
   "metadata": {},
   "outputs": [
    {
     "name": "stdout",
     "output_type": "stream",
     "text": [
      "225\n"
     ]
    }
   ],
   "source": [
    "def sumOfSeries(n):\n",
    "    x = (n * (n + 1)  / 2)\n",
    "    return (int)(x * x)\n",
    "  \n",
    "  \n",
    "   \n",
    "# Driver Function\n",
    "n = 5\n",
    "print(sumOfSeries(n))"
   ]
  },
  {
   "cell_type": "code",
   "execution_count": 40,
   "id": "spiritual-metabolism",
   "metadata": {},
   "outputs": [
    {
     "name": "stdout",
     "output_type": "stream",
     "text": [
      "2025\n"
     ]
    }
   ],
   "source": [
    "def sumofseries(n):\n",
    "    a = (n * (n+1) / 2 )\n",
    "    return (int)(a*a)\n",
    "    \n",
    "n = 9 \n",
    "print(sumofseries(n))"
   ]
  },
  {
   "cell_type": "code",
   "execution_count": 2,
   "id": "horizontal-lebanon",
   "metadata": {},
   "outputs": [
    {
     "name": "stdout",
     "output_type": "stream",
     "text": [
      "784\n"
     ]
    }
   ],
   "source": [
    "def sumofs(n):\n",
    "    a = (n * (n+1) / 2)\n",
    "    return (int)(a *a)\n",
    "\n",
    "n= 7\n",
    "print(sumofs(n))"
   ]
  },
  {
   "cell_type": "markdown",
   "id": "improving-architect",
   "metadata": {},
   "source": [
    "# Python | Cloning or Copying a list"
   ]
  },
  {
   "cell_type": "code",
   "execution_count": 1,
   "id": "cubic-leather",
   "metadata": {},
   "outputs": [
    {
     "name": "stdout",
     "output_type": "stream",
     "text": [
      "Original List: [4, 8, 2, 0, 15, 18]\n",
      "After Cloning: [4, 8, 2, 0, 15, 18]\n"
     ]
    }
   ],
   "source": [
    "def Cloning(li1):\n",
    "    li_copy = li1[:]\n",
    "    return li_copy\n",
    "  \n",
    "# Driver Code\n",
    "li1 = [4, 8, 2, 0, 15, 18]\n",
    "li2 = Cloning(li1)\n",
    "print(\"Original List:\", li1)\n",
    "print(\"After Cloning:\", li2)"
   ]
  },
  {
   "cell_type": "code",
   "execution_count": 5,
   "id": "major-latin",
   "metadata": {},
   "outputs": [
    {
     "name": "stdout",
     "output_type": "stream",
     "text": [
      " original num : [5, 7, 9, 11, 13]\n",
      " after cloning: [5, 7, 9, 11, 13]\n"
     ]
    }
   ],
   "source": [
    "def cloning(num1):\n",
    "    copy = num1[:]\n",
    "    return copy \n",
    "\n",
    "num1 = [5,7,9,11,13]\n",
    "num2 = cloning(num1)\n",
    "print(\" original num :\" , num1)\n",
    "print(\" after cloning:\" , num2)"
   ]
  },
  {
   "cell_type": "code",
   "execution_count": 8,
   "id": "medical-controversy",
   "metadata": {},
   "outputs": [
    {
     "name": "stdout",
     "output_type": "stream",
     "text": [
      " original num: [2, 4, 8, 16, 32, 64, 128]\n",
      " after cloning: [2, 4, 8, 16, 32, 64, 128]\n"
     ]
    }
   ],
   "source": [
    "def cloning(a):\n",
    "    copy = a[:]\n",
    "    return copy\n",
    "\n",
    "a = [2, 4, 8, 16, 32, 64,128]\n",
    "b = cloning(a)\n",
    "print(\" original num:\" , a)\n",
    "print(\" after cloning:\" , b)"
   ]
  },
  {
   "cell_type": "markdown",
   "id": "religious-ending",
   "metadata": {},
   "source": [
    "# Python program to print all odd numbers in a range"
   ]
  },
  {
   "cell_type": "code",
   "execution_count": 1,
   "id": "given-blank",
   "metadata": {},
   "outputs": [
    {
     "name": "stdout",
     "output_type": "stream",
     "text": [
      "5 7 9 11 13 15 17 19 "
     ]
    }
   ],
   "source": [
    "start, end = 4, 19\n",
    "  \n",
    "# iterating each number in list\n",
    "for num in range(start, end + 1):\n",
    "      \n",
    "    # checking condition\n",
    "    if num % 2 != 0:\n",
    "        print(num, end = \" \")"
   ]
  },
  {
   "cell_type": "code",
   "execution_count": 4,
   "id": "positive-franklin",
   "metadata": {},
   "outputs": [
    {
     "name": "stdout",
     "output_type": "stream",
     "text": [
      "5 7 9 11 13 15 17 19 21 23 25 27 29 "
     ]
    }
   ],
   "source": [
    "start , end = 4 ,29\n",
    "\n",
    "for num in range(start , end + 1) :\n",
    "    \n",
    "    if num % 2 != 0 :\n",
    "        print(num , end = \" \")"
   ]
  },
  {
   "cell_type": "code",
   "execution_count": null,
   "id": "threaded-death",
   "metadata": {},
   "outputs": [],
   "source": []
  },
  {
   "cell_type": "markdown",
   "id": "logical-jacket",
   "metadata": {},
   "source": [
    "# Python program to print odd numbers in a List"
   ]
  },
  {
   "cell_type": "code",
   "execution_count": 3,
   "id": "dominant-large",
   "metadata": {},
   "outputs": [
    {
     "name": "stdout",
     "output_type": "stream",
     "text": [
      "21 45 93 "
     ]
    }
   ],
   "source": [
    "list1 = [10, 21, 4, 45, 66, 93]\n",
    "  \n",
    "# iterating each number in list\n",
    "for num in list1:\n",
    "      \n",
    "    # checking condition\n",
    "    if num % 2 != 0:\n",
    "       print(num, end = \" \")"
   ]
  },
  {
   "cell_type": "code",
   "execution_count": 1,
   "id": "silver-tissue",
   "metadata": {},
   "outputs": [
    {
     "name": "stdout",
     "output_type": "stream",
     "text": [
      "1 3 5 7 "
     ]
    }
   ],
   "source": [
    "list_a = [1,3,5,7,8,10]\n",
    "\n",
    "for num in list_a:\n",
    "    \n",
    "    if num % 2 != 0:\n",
    "        print(num, end = \" \")\n"
   ]
  },
  {
   "cell_type": "code",
   "execution_count": 2,
   "id": "fitting-trout",
   "metadata": {},
   "outputs": [
    {
     "name": "stdout",
     "output_type": "stream",
     "text": [
      "3 5 7 11 "
     ]
    }
   ],
   "source": [
    "a = [ 3,5,7,11,22,12,14,]\n",
    "\n",
    "for num in a:\n",
    "    if num % 2 != 0:\n",
    "        print(num , end = \" \")"
   ]
  },
  {
   "cell_type": "code",
   "execution_count": 3,
   "id": "endless-leone",
   "metadata": {},
   "outputs": [
    {
     "name": "stdout",
     "output_type": "stream",
     "text": [
      "57 23 25 1 9 3 "
     ]
    }
   ],
   "source": [
    "series = [57 , 23, 25 ,24 ,1 , 9, 3]\n",
    "for num in series :\n",
    "    if num % 2 != 0 :\n",
    "        print(num , end = ' ')"
   ]
  }
 ],
 "metadata": {
  "kernelspec": {
   "display_name": "Python 3",
   "language": "python",
   "name": "python3"
  },
  "language_info": {
   "codemirror_mode": {
    "name": "ipython",
    "version": 3
   },
   "file_extension": ".py",
   "mimetype": "text/x-python",
   "name": "python",
   "nbconvert_exporter": "python",
   "pygments_lexer": "ipython3",
   "version": "3.9.2"
  }
 },
 "nbformat": 4,
 "nbformat_minor": 5
}
